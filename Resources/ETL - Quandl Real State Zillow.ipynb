{
 "cells": [
  {
   "cell_type": "code",
   "execution_count": 1,
   "metadata": {},
   "outputs": [],
   "source": [
    "# Dependencies and Setup\n",
    "import pandas as pd\n",
    "import quandl\n",
    "import urllib.request, json"
   ]
  },
  {
   "cell_type": "code",
   "execution_count": 2,
   "metadata": {},
   "outputs": [],
   "source": [
    "# Token key for accessing Quandl Data\n",
    "api_key = 'api_key='+'Tx8GhHmntW9csEbtjmH_'\n",
    "base_URL = \"https://www.quandl.com/api/v3/datasets/ZILLOW/\"\n",
    "LA_Metro = \"M436\"\n",
    "SF_Metro = \"M1047\"\n",
    "NY_Metro = \"M1105\""
   ]
  },
  {
   "cell_type": "markdown",
   "metadata": {},
   "source": [
    "# Indicators for 3 Metro areas: LA, SF, NY\n",
    "* Los Angeles-Long Beach-Anaheim, CA\n",
    "* San Francisco-Oakland-Hayward, CA\n",
    "* New York-Newark-Jersey City, NY"
   ]
  },
  {
   "cell_type": "markdown",
   "metadata": {},
   "source": [
    "#### IMP - Inventory Measure (Public)"
   ]
  },
  {
   "cell_type": "code",
   "execution_count": 3,
   "metadata": {},
   "outputs": [],
   "source": [
    "# Zillow Home Value Index (Metro): Inventory Measure (Public)\n",
    "\n",
    "LA_data = f\"{base_URL}M436_IMP.json?{api_key}\"\n",
    "SF_data = f\"{base_URL}M11_IMP.json?{api_key}\"\n",
    "NY_data = f\"{base_URL}M2_IMP.json?{api_key}\"\n",
    "\n",
    "data = urllib.request.urlopen(LA_data).read()\n",
    "inventory_LA = json.loads(data)\n",
    "\n",
    "data = urllib.request.urlopen(SF_data).read()\n",
    "inventory_SF = json.loads(data)\n",
    "\n",
    "data = urllib.request.urlopen(NY_data).read()\n",
    "inventory_NY = json.loads(data)"
   ]
  },
  {
   "cell_type": "markdown",
   "metadata": {},
   "source": [
    "#### MRPAH - Median Rental Price - All Homes"
   ]
  },
  {
   "cell_type": "code",
   "execution_count": 4,
   "metadata": {},
   "outputs": [],
   "source": [
    "# Zillow Home Value Index (Metro): Zillow Rental Index - All Homes\n",
    "\n",
    "LA_data = f\"{base_URL}{LA_Metro}_ZRIAH.json?{api_key}\"\n",
    "SF_data = f\"{base_URL}{SF_Metro}_ZRIAH.json?{api_key}\"\n",
    "NY_data = f\"{base_URL}{NY_Metro}_ZRIAH.json?{api_key}\"\n",
    "\n",
    "data = urllib.request.urlopen(LA_data).read()\n",
    "rent_LA = json.loads(data)\n",
    "\n",
    "data = urllib.request.urlopen(SF_data).read()\n",
    "rent_SF = json.loads(data)\n",
    "\n",
    "data = urllib.request.urlopen(NY_data).read()\n",
    "rent_NY = json.loads(data)"
   ]
  },
  {
   "cell_type": "markdown",
   "metadata": {},
   "source": [
    "#### ZHVIAH - Home Value Index - All Homes"
   ]
  },
  {
   "cell_type": "code",
   "execution_count": 5,
   "metadata": {},
   "outputs": [],
   "source": [
    "# Zillow Home Value Index (Metro): Zillow Home Value Index - All Homes\n",
    "\n",
    "LA_data = f\"{base_URL}{LA_Metro}_ZHVIAH.json?{api_key}\"\n",
    "SF_data = f\"{base_URL}{SF_Metro}_ZHVIAH.json?{api_key}\"\n",
    "NY_data = f\"{base_URL}{NY_Metro}_ZHVIAH.json?{api_key}\"\n",
    "\n",
    "data = urllib.request.urlopen(LA_data).read()\n",
    "value_LA = json.loads(data)\n",
    "\n",
    "data = urllib.request.urlopen(SF_data).read()\n",
    "value_SF = json.loads(data)\n",
    "\n",
    "data = urllib.request.urlopen(NY_data).read()\n",
    "value_NY = json.loads(data)"
   ]
  },
  {
   "cell_type": "markdown",
   "metadata": {},
   "source": [
    "#### PHIVAH - Percent Of Homes Increasing In Values - All Homes"
   ]
  },
  {
   "cell_type": "code",
   "execution_count": 6,
   "metadata": {},
   "outputs": [],
   "source": [
    "# Zillow Home Value Index (Metro): Percent Of Homes Increasing In Values - All Homes\n",
    "\n",
    "LA_data = f\"{base_URL}{LA_Metro}_PHIVAH.json?{api_key}\"\n",
    "SF_data = f\"{base_URL}{SF_Metro}_PHIVAH.json?{api_key}\"\n",
    "NY_data = f\"{base_URL}{NY_Metro}_PHIVAH.json?{api_key}\"\n",
    "\n",
    "data = urllib.request.urlopen(LA_data).read()\n",
    "increasing_value_LA = json.loads(data)\n",
    "\n",
    "data = urllib.request.urlopen(SF_data).read()\n",
    "increasing_value_SF = json.loads(data)\n",
    "\n",
    "data = urllib.request.urlopen(NY_data).read()\n",
    "increasing_value_NY = json.loads(data)"
   ]
  },
  {
   "cell_type": "markdown",
   "metadata": {},
   "source": [
    "#### PHDVAH - Percent Of Homes Decreasing In Values - All Homes"
   ]
  },
  {
   "cell_type": "code",
   "execution_count": 7,
   "metadata": {},
   "outputs": [],
   "source": [
    "# Zillow Home Value Index (Metro): Percent Of Homes Decreasing In Values - All Homes\n",
    "\n",
    "LA_data = f\"{base_URL}{LA_Metro}_PHDVAH.json?{api_key}\"\n",
    "SF_data = f\"{base_URL}{SF_Metro}_PHDVAH.json?{api_key}\"\n",
    "NY_data = f\"{base_URL}{NY_Metro}_PHDVAH.json?{api_key}\"\n",
    "\n",
    "data = urllib.request.urlopen(LA_data).read()\n",
    "decreasing_value_LA = json.loads(data)\n",
    "\n",
    "data = urllib.request.urlopen(SF_data).read()\n",
    "decreasing_value_SF = json.loads(data)\n",
    "\n",
    "data = urllib.request.urlopen(NY_data).read()\n",
    "decreasing_value_NY = json.loads(data)"
   ]
  },
  {
   "cell_type": "code",
   "execution_count": 21,
   "metadata": {},
   "outputs": [
    {
     "data": {
      "text/plain": [
       "'2018-07-31'"
      ]
     },
     "execution_count": 21,
     "metadata": {},
     "output_type": "execute_result"
    }
   ],
   "source": [
    "decreasing_value_NY['dataset']['data'][1][0]"
   ]
  },
  {
   "cell_type": "code",
   "execution_count": null,
   "metadata": {},
   "outputs": [],
   "source": []
  }
 ],
 "metadata": {
  "kernelspec": {
   "display_name": "Python 3",
   "language": "python",
   "name": "python3"
  },
  "language_info": {
   "codemirror_mode": {
    "name": "ipython",
    "version": 3
   },
   "file_extension": ".py",
   "mimetype": "text/x-python",
   "name": "python",
   "nbconvert_exporter": "python",
   "pygments_lexer": "ipython3",
   "version": "3.7.3"
  }
 },
 "nbformat": 4,
 "nbformat_minor": 2
}
