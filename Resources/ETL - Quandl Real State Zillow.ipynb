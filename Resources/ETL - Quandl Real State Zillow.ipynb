{
 "cells": [
  {
   "cell_type": "code",
   "execution_count": 1,
   "metadata": {},
   "outputs": [],
   "source": [
    "# Dependencies and Setup\n",
    "import pandas as pd\n",
    "import quandl"
   ]
  },
  {
   "cell_type": "code",
   "execution_count": 2,
   "metadata": {},
   "outputs": [],
   "source": [
    "# Token key for accessing Quandl Data\n",
    "quandl.ApiConfig.api_key = 'Tx8GhHmntW9csEbtjmH_'"
   ]
  },
  {
   "cell_type": "markdown",
   "metadata": {},
   "source": [
    "# Indicators for 3 Metro areas: LA, SF, NY\n",
    "* Los Angeles-Long Beach-Anaheim, CA\n",
    "* San Francisco-Oakland-Hayward, CA\n",
    "* New York-Newark-Jersey City, NY"
   ]
  },
  {
   "cell_type": "markdown",
   "metadata": {},
   "source": [
    "#### IMP - Inventory Measure (Public)"
   ]
  },
  {
   "cell_type": "code",
   "execution_count": 3,
   "metadata": {},
   "outputs": [
    {
     "data": {
      "text/plain": [
       "315"
      ]
     },
     "execution_count": 3,
     "metadata": {},
     "output_type": "execute_result"
    }
   ],
   "source": [
    "# Zillow Home Value Index (Metro): Inventory Measure (Public)\n",
    "Inventory_Measure_LA = quandl.get(\"ZILLOW/M436_IMP\")\n",
    "Inventory_Measure_LA['location'] = 'LA'\n",
    "Inventory_Measure_LA['zillow_code'] = 'IMP'\n",
    "Inventory_Measure_LA['description'] = 'Inventory Measure (Public)'\n",
    "Inventory_Measure_LA.reset_index(inplace=True)\n",
    "\n",
    "Inventory_Measure_SF = quandl.get(\"ZILLOW/M11_IMP\") # No San-Francisco-Oakland-Hayward available. Use SF instead\n",
    "Inventory_Measure_SF['location'] = 'SF'\n",
    "Inventory_Measure_SF['zillow_code'] = 'IMP'\n",
    "Inventory_Measure_SF['description'] = 'Inventory Measure (Public)'\n",
    "Inventory_Measure_SF.reset_index(inplace=True)\n",
    "\n",
    "Inventory_Measure_NY = quandl.get(\"ZILLOW/M2_IMP\") # No New-York-Newark-Jersey City, NY available. Use NY instead\n",
    "Inventory_Measure_NY['location'] = 'NY'\n",
    "Inventory_Measure_NY['zillow_code'] = 'IMP'\n",
    "Inventory_Measure_NY['description'] = 'Inventory Measure (Public)'\n",
    "Inventory_Measure_NY.reset_index(inplace=True)\n",
    "\n",
    "zillow_inventory_measure = pd.concat([Inventory_Measure_LA, Inventory_Measure_SF, Inventory_Measure_NY], ignore_index=True)\n",
    "len(zillow_inventory_measure)"
   ]
  },
  {
   "cell_type": "markdown",
   "metadata": {},
   "source": [
    "#### MRPAH - Median Rental Price - All Homes"
   ]
  },
  {
   "cell_type": "code",
   "execution_count": null,
   "metadata": {},
   "outputs": [
    {
     "data": {
      "text/plain": [
       "290"
      ]
     },
     "execution_count": 4,
     "metadata": {},
     "output_type": "execute_result"
    }
   ],
   "source": [
    "# Zillow Home Value Index (Metro): Zillow Rental Index - All Homes\n",
    "Rental_Index_LA = quandl.get(\"ZILLOW/M436_ZRIAH\")\n",
    "Rental_Index_LA['location'] = 'LA'\n",
    "Rental_Index_LA['zillow_code'] = 'ZRIAH'\n",
    "Rental_Index_LA['description'] = 'Zillow Rental Index - All Homes'\n",
    "Rental_Index_LA.reset_index(inplace=True)\n",
    "\n",
    "Rental_Index_SF = quandl.get(\"ZILLOW/M1047_ZRIAH\")\n",
    "Rental_Index_SF['location'] = 'SF'\n",
    "Rental_Index_SF['zillow_code'] = 'ZRIAH'\n",
    "Rental_Index_SF['description'] = 'Zillow Rental Index - All Homes'\n",
    "Rental_Index_SF.reset_index(inplace=True)\n",
    "\n",
    "Rental_Index_NY = quandl.get(\"ZILLOW/M1105_ZRIAH\")\n",
    "Rental_Index_NY['location'] = 'NY'\n",
    "Rental_Index_NY['zillow_code'] = 'ZRIAH'\n",
    "Rental_Index_NY['description'] = 'Zillow Rental Index - All Homes'\n",
    "Rental_Index_NY.reset_index(inplace=True)\n",
    "\n",
    "zillow_rental_index = pd.concat([Rental_Index_LA, Rental_Index_SF, Rental_Index_NY], ignore_index=True)\n",
    "len(zillow_rental_index)"
   ]
  },
  {
   "cell_type": "markdown",
   "metadata": {},
   "source": [
    "#### ZHVIAH - Home Value Index - All Homes"
   ]
  },
  {
   "cell_type": "code",
   "execution_count": null,
   "metadata": {},
   "outputs": [
    {
     "data": {
      "text/plain": [
       "815"
      ]
     },
     "execution_count": 5,
     "metadata": {},
     "output_type": "execute_result"
    }
   ],
   "source": [
    "# Zillow Home Value Index (Metro): Zillow Home Value Index - All Homes\n",
    "home_value_LA = quandl.get(\"ZILLOW/M436_ZHVIAH\")\n",
    "home_value_LA['location'] = 'LA'\n",
    "home_value_LA['zillow_code'] = 'ZHVIAH'\n",
    "home_value_LA['description'] = 'Zillow Home Value Index - All Homes'\n",
    "home_value_LA.reset_index(inplace=True)\n",
    "\n",
    "\n",
    "home_value_SF = quandl.get(\"ZILLOW/M1047_ZHVIAH\")\n",
    "home_value_SF['location'] = 'SF'\n",
    "home_value_SF['zillow_code'] = 'ZHVIAH'\n",
    "home_value_SF['description'] = 'Zillow Home Value Index - All Homes'\n",
    "home_value_SF.reset_index(inplace=True)\n",
    "\n",
    "home_value_NY = quandl.get(\"ZILLOW/M1105_ZHVIAH\")\n",
    "home_value_NY['location'] = 'NY'\n",
    "home_value_NY['zillow_code'] = 'ZHVIAH'\n",
    "home_value_NY['description'] = 'Zillow Home Value Index - All Homes'\n",
    "home_value_NY.reset_index(inplace=True)\n",
    "\n",
    "zillow_home_value = pd.concat([home_value_LA, home_value_SF, home_value_NY], ignore_index=True)\n",
    "len(zillow_home_value)"
   ]
  },
  {
   "cell_type": "markdown",
   "metadata": {},
   "source": [
    "#### PHIVAH - Percent Of Homes Increasing In Values - All Homes"
   ]
  },
  {
   "cell_type": "code",
   "execution_count": null,
   "metadata": {},
   "outputs": [],
   "source": [
    "# Zillow Home Value Index (Metro): Percent Of Homes Increasing In Values - All Homes\n",
    "homes_increasing_value_LA = quandl.get(\"ZILLOW/M436_PHIVAH\")\n",
    "homes_increasing_value_LA['location'] = 'LA'\n",
    "homes_increasing_value_LA['zillow_code'] = 'PHIVAH'\n",
    "homes_increasing_value_LA['description'] = 'Percent Of Homes Increasing In Values - All Homes'\n",
    "homes_increasing_value_LA.reset_index(inplace=True)\n",
    "\n",
    "homes_increasing_value_SF = quandl.get(\"ZILLOW/M1047_PHIVAH\")\n",
    "homes_increasing_value_SF['location'] = 'SF'\n",
    "homes_increasing_value_SF['zillow_code'] = 'PHIVAH'\n",
    "homes_increasing_value_SF['description'] = 'Percent Of Homes Increasing In Values - All Homes'\n",
    "homes_increasing_value_SF.reset_index(inplace=True)\n",
    "\n",
    "homes_increasing_value_NY = quandl.get(\"ZILLOW/M1105_PHIVAH\")\n",
    "homes_increasing_value_NY['location'] = 'NY'\n",
    "homes_increasing_value_NY['zillow_code'] = 'PHIVAH'\n",
    "homes_increasing_value_NY['description'] = 'Percent Of Homes Increasing In Values - All Homes'\n",
    "homes_increasing_value_NY.reset_index(inplace=True)\n",
    "\n",
    "zillow_homes_increasing_value = pd.concat([homes_increasing_value_LA, homes_increasing_value_SF, homes_increasing_value_NY], ignore_index=True)\n",
    "len(zillow_homes_increasing_value)"
   ]
  },
  {
   "cell_type": "markdown",
   "metadata": {},
   "source": [
    "#### PHDVAH - Percent Of Homes Decreasing In Values - All Homes"
   ]
  },
  {
   "cell_type": "code",
   "execution_count": null,
   "metadata": {},
   "outputs": [],
   "source": [
    "# Zillow Home Value Index (Metro): Percent Of Homes Decreasing In Values - All Homes\n",
    "homes_decreasing_value_LA = quandl.get(\"ZILLOW/M436_PHDVAH\")\n",
    "homes_decreasing_value_LA['location'] = 'LA'\n",
    "homes_decreasing_value_LA['zillow_code'] = 'PHDVAH'\n",
    "homes_decreasing_value_LA['description'] = 'Percent Of Homes Decreasing In Values - All Homes'\n",
    "homes_decreasing_value_LA.reset_index(inplace=True)\n",
    "\n",
    "homes_decreasing_value_SF = quandl.get(\"ZILLOW/M1047_PHDVAH\")\n",
    "homes_decreasing_value_SF['location'] = 'SF'\n",
    "homes_decreasing_value_SF['zillow_code'] = 'PHDVAH'\n",
    "homes_decreasing_value_SF['description'] = 'Percent Of Homes Decreasing In Values - All Homes'\n",
    "homes_decreasing_value_SF.reset_index(inplace=True)\n",
    "\n",
    "homes_decreasing_value_NY = quandl.get(\"ZILLOW/M1105_PHDVAH\")\n",
    "homes_decreasing_value_NY['location'] = 'NY'\n",
    "homes_decreasing_value_NY['zillow_code'] = 'PHDVAH'\n",
    "homes_decreasing_value_NY['description'] = 'Percent Of Homes Decreasing In Values - All Homes'\n",
    "homes_decreasing_value_NY.reset_index(inplace=True)\n",
    "\n",
    "zillow_homes_decreasing_value = pd.concat([homes_decreasing_value_LA, homes_decreasing_value_SF, homes_decreasing_value_NY], ignore_index=True)\n",
    "len(zillow_homes_decreasing_value)"
   ]
  },
  {
   "cell_type": "code",
   "execution_count": null,
   "metadata": {},
   "outputs": [],
   "source": [
    "zillow_data = pd.concat([zillow_inventory_measure, zillow_rental_index, zillow_home_value, zillow_homes_increasing_value, zillow_homes_decreasing_value], ignore_index=True)\n",
    "len(zillow_data)"
   ]
  },
  {
   "cell_type": "markdown",
   "metadata": {},
   "source": [
    "# Creating SQLite database table using SQLAlchemy"
   ]
  },
  {
   "cell_type": "code",
   "execution_count": null,
   "metadata": {},
   "outputs": [],
   "source": [
    "import sqlalchemy\n",
    "from sqlalchemy import create_engine\n",
    "# from sqlalchemy.orm import relationship\n",
    "# from sqlalchemy.ext.declarative import declarative_base\n",
    "# from sqlalchemy import Column, Integer, String, Float, ForeignKey, DateTime, Boolean, Numeric\n",
    "# from sqlalchemy.orm import relationship, backref\n",
    "# from sqlalchemy.orm import sessionmaker"
   ]
  },
  {
   "cell_type": "code",
   "execution_count": null,
   "metadata": {},
   "outputs": [],
   "source": [
    "#Creating a sqllite database 'database.db' in current directory\n",
    "engine = create_engine('sqlite:///database.db', echo=False)"
   ]
  },
  {
   "cell_type": "code",
   "execution_count": null,
   "metadata": {},
   "outputs": [],
   "source": [
    "engine.execute('DROP TABLE IF EXISTS zillow_data;')  # Drop existing table before creating new table\n",
    "\n",
    "# writing pandas dataframe directly to sqllite table 'plotting_data'\n",
    "zillow_data.to_sql('zillow_data', con = engine, index = False) "
   ]
  },
  {
   "cell_type": "code",
   "execution_count": null,
   "metadata": {},
   "outputs": [],
   "source": [
    "# run a SQL query\n",
    "engine.execute('SELECT * FROM zillow_data').fetchall()"
   ]
  }
 ],
 "metadata": {
  "kernelspec": {
   "display_name": "Python 3",
   "language": "python",
   "name": "python3"
  },
  "language_info": {
   "codemirror_mode": {
    "name": "ipython",
    "version": 3
   },
   "file_extension": ".py",
   "mimetype": "text/x-python",
   "name": "python",
   "nbconvert_exporter": "python",
   "pygments_lexer": "ipython3",
   "version": "3.7.3"
  }
 },
 "nbformat": 4,
 "nbformat_minor": 2
}
